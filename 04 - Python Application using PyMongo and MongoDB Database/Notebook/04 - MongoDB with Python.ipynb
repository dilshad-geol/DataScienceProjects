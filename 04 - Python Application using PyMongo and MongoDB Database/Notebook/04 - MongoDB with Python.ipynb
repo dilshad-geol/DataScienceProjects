{
 "cells": [
  {
   "cell_type": "markdown",
   "metadata": {},
   "source": [
    "# ***04 - MongoDB with pyMongo in python***\n",
    "\n",
    "## **1: ReadFile into JSON -style list**\n",
    "- [MongoDB Community Edition](https://www.mongodb.com/try/download/community)\n",
    "- pip install pymongo\n",
    "- Python stores documents in JSON format.\n",
    "- We will prepare a JSON style listo later insert into collection of documents.\n",
    "- Read data from comma separated file\n",
    "- Save it in the List as word, definition pairs:\n",
    "  - {'word':'cryptic', 'definition':'Secret with a hidden meaning'}"
   ]
  },
  {
   "cell_type": "code",
   "execution_count": 1,
   "metadata": {},
   "outputs": [
    {
     "name": "stdout",
     "output_type": "stream",
     "text": [
      "[{'word': 'philanthropist', 'definition': 'one who loves mankind'}, {'word': 'introspection', 'definition': \"examining one's own thoughts and feelings\"}, {'word': 'antidote', 'definition': 'medicine used against a poison or a disease'}, {'word': 'strive', 'definition': 'to make great efforts, to struggle\"'}, {'word': 'ambidextrous', 'definition': 'able to use the left hand or the right equally well'}, {'word': 'precursors', 'definition': 'a person or thing that precedes, as in a process or job.\"'}, {'word': 'retrospective', 'definition': 'Looking back on past'}, {'word': 'introvert', 'definition': 'one who turns towards himself'}, {'word': 'ambiguous', 'definition': 'doubtful; uncertain'}, {'word': 'gerontocracy', 'definition': 'government ruled by old people'}, {'word': 'aggravate', 'definition': 'make worse; irritate'}, {'word': 'braggart', 'definition': 'boastful'}, {'word': 'entice', 'definition': 'attract, lure\"'}, {'word': 'equilibrium', 'definition': 'state of being balanced'}, {'word': 'alleviate', 'definition': 'make (pain) easier to bear'}, {'word': 'adorn', 'definition': 'add beauty; decorate'}, {'word': 'malevolent', 'definition': 'malicious; evil; having or showing ill will'}, {'word': 'connote', 'definition': 'Suggest or imply in addition to the precise, literal meaning\"'}, {'word': 'abhor', 'definition': 'to hate; to detest'}, {'word': 'agile', 'definition': 'active; quick-moving'}, {'word': 'endeavor', 'definition': 'to make an effort, to try very hard\"'}, {'word': 'stray', 'definition': \"wander lose one's way\"}, {'word': 'renovate', 'definition': 'restore something to better condition'}, {'word': 'curriculum', 'definition': 'course of study'}, {'word': 'amalgamate', 'definition': 'mix; combine; unite societies'}, {'word': 'drowsiness', 'definition': 'feeling sleepy half asleep'}, {'word': 'disrobe', 'definition': 'undress'}, {'word': 'xenophile (zen-uh-fahyl)', 'definition': 'a person who is attracted to foreign peoples cultures'}, {'word': 'suffocate', 'definition': 'cause or have difficulty in breathing'}, {'word': 'sequence', 'definition': 'succession connected line of'}, {'word': 'scent', 'definition': 'smell (especially pleasant)'}, {'word': 'sporadic', 'definition': 'happening from time to time'}, {'word': 'affinity', 'definition': 'close connection; relationship'}, {'word': 'audacious', 'definition': 'Bold'}, {'word': 'heterogeneous', 'definition': 'made up of different kinds'}, {'word': 'animosity', 'definition': 'strong dislike'}, {'word': 'fragile', 'definition': 'easily injured broken or destroyed'}, {'word': 'acumen', 'definition': 'Keen, quick, accurate insight or judgment\"'}, {'word': 'legacy', 'definition': 'Bequest or inheritance'}, {'word': 'massacre', 'definition': 'cruel killing of a large number of people'}, {'word': 'submerge', 'definition': 'put under water liquid sink out of sight'}, {'word': 'combustion', 'definition': 'process of burning'}, {'word': 'adulteration', 'definition': 'making unpure; poorer in quality'}, {'word': 'appease', 'definition': 'make quiet or calm'}, {'word': 'premature', 'definition': 'doing or happening something before the right time'}, {'word': 'inquest', 'definition': 'Legal or judicial inquiry, especially before a jury and especially made by a coroner into the cause of someone.s death\"'}, {'word': 'shunned', 'definition': 'avoided, kept away from\"'}, {'word': 'conceal', 'definition': 'hide keep secret'}, {'word': 'anguish', 'definition': 'severe suffering'}, {'word': 'indigenous', 'definition': 'native'}, {'word': 'apt', 'definition': 'well-suited; quick-witted'}, {'word': 'correlate', 'definition': 'have a mutual relation'}, {'word': 'grumble', 'definition': 'to complain'}, {'word': 'offhand', 'definition': 'Without preparation or forethought'}, {'word': 'somersault', 'definition': 'rolling backward or forward (not sideways) movement'}, {'word': 'extinguish', 'definition': 'end the existence of/wipe or put out'}, {'word': 'edible', 'definition': 'fit to be eaten/not poisonous'}, {'word': 'conjoin', 'definition': 'to join together'}, {'word': 'surcharge', 'definition': 'additional load/charge'}, {'word': 'accolade', 'definition': 'praise; approval'}, {'word': 'disallow', 'definition': 'refuse to allow or accept as a correct'}, {'word': 'opaqueness', 'definition': 'dullness/not allowing light to pass through'}, {'word': 'impermeable', 'definition': 'that cannot be permeated'}, {'word': 'console', 'definition': 'give comfort or sympathy to'}, {'word': 'timid', 'definition': 'shy easily frightened'}, {'word': 'abscond', 'definition': 'to go away suddenly (to avoid arrest)'}, {'word': 'abide', 'definition': 'be faithful; to endure'}, {'word': 'embezzle', 'definition': \"use in a wrong way for one's own benefit\"}, {'word': 'warrant', 'definition': 'authority written order guarantee'}, {'word': 'reminiscent', 'definition': 'suggest something in the past'}, {'word': 'extinct', 'definition': 'no longer active'}, {'word': 'loll', 'definition': \"rest to sit or stand in a lazy way hang (dog's tongue)\"}, {'word': 'acclaimed', 'definition': 'welcomed with shouts and approval'}, {'word': 'clientele', 'definition': 'customers'}, {'word': 'catalyst', 'definition': 'substance that causes speeding up'}, {'word': 'shallow', 'definition': 'little depth; not earnest'}, {'word': 'brittle', 'definition': 'easily broken'}, {'word': 'negligent', 'definition': 'taking too little care'}, {'word': 'affable', 'definition': 'polite and friendly'}, {'word': 'poseur', 'definition': 'a person who attempts to impress by acting unlike himself'}, {'word': 'dangle', 'definition': 'hand or swing loosely'}, {'word': 'moribund', 'definition': 'in a dying state; near death'}, {'word': 'ascend', 'definition': 'go or come up'}, {'word': 'relapse', 'definition': 'fall back again'}, {'word': 'asterisk', 'definition': 'the mark * (e.g.. omitted letters)'}, {'word': 'yarn', 'definition': 'tale story fibers for knitting'}, {'word': 'arrogance', 'definition': 'proud; superior manner of behaviour'}, {'word': 'salvage', 'definition': 'the saving of property from loss'}, {'word': 'livid', 'definition': 'Furiously angry, enraged\"'}, {'word': 'divergence', 'definition': 'getting farther apart from a point'}, {'word': 'rejuvenation', 'definition': 'becoming young in nature or appearance'}, {'word': 'allegiance', 'definition': 'duty support loyalty'}, {'word': 'vigorous', 'definition': 'strong energetic'}, {'word': 'dullard', 'definition': 'a stupid, insensitive person\"'}, {'word': 'dwarf', 'definition': 'person much smaller the usual size'}, {'word': 'fragrant', 'definition': 'sweet-smelling'}, {'word': 'judicious', 'definition': 'sound in judgment; wise'}, {'word': 'nihilism', 'definition': 'total rejection of all religious and moral beliefs'}, {'word': 'odor', 'definition': 'smell'}, {'word': 'scribble', 'definition': 'write hastily'}, {'word': 'hospitable', 'definition': 'liking to give hospitality'}, {'word': 'narcissism', 'definition': 'Self-love'}, {'word': 'sawdust', 'definition': 'tiny bits of wood'}, {'word': 'ameliorate', 'definition': 'improve; make better'}, {'word': 'ingest', 'definition': 'take in by swallowing'}, {'word': 'gait', 'definition': 'a manner of walking, stepping, or running\"'}, {'word': 'sluggard', 'definition': 'lazy slow-moving person'}, {'word': 'succumb', 'definition': 'yield, die\"'}, {'word': 'reiterate', 'definition': 'say or do again several times'}, {'word': 'flop', 'definition': 'fail/move/fall clumsily'}, {'word': 'defer', 'definition': 'postpone'}, {'word': 'ossified', 'definition': 'turned to bone; hardened like bone; Inflexible'}, {'word': 'eloquence', 'definition': 'fluent speaking skillful use of language'}, {'word': 'derivative', 'definition': 'unoriginal; obtained from another source'}, {'word': 'commuter', 'definition': 'person who travels regularly'}, {'word': 'clot', 'definition': 'half-solid lump formed from liquid'}, {'word': 'weigh', 'definition': 'measure how heavy something is'}, {'word': 'steeply', 'definition': 'rising or falling sharply'}, {'word': 'torque', 'definition': 'twisting force causing rotation'}, {'word': 'benefactor', 'definition': 'person who has given help'}, {'word': 'complaisant', 'definition': 'trying to please; obliging'}, {'word': 'plea', 'definition': 'request'}, {'word': 'moderation', 'definition': 'quality of being limited; not extreme'}, {'word': 'enduring', 'definition': 'lasting'}, {'word': 'invincible', 'definition': 'too strong to be defeated'}, {'word': 'sanity', 'definition': 'health of mind soundness of judgment'}, {'word': 'turmoil', 'definition': 'trouble disturbance'}, {'word': 'flimsy', 'definition': 'lacking solidarity, strength\"'}, {'word': 'tadpole', 'definition': 'form of a frog when it leaves the egg'}, {'word': 'reconcile', 'definition': 'settle a quarrel restore peace'}, {'word': 'cryptic', 'definition': 'secret with a hidden meaning'}, {'word': 'sponge', 'definition': 'porous rubber for washing live at once expense'}, {'word': 'commemorate', 'definition': 'keep the memory of'}, {'word': 'sadistic', 'definition': 'Cruel'}, {'word': 'dote', 'definition': \"show much fondness center one's attention\"}, {'word': 'encapsulate', 'definition': 'enclose in capsule'}, {'word': 'fission', 'definition': 'splitting or division (esp. of cells)'}, {'word': 'volatile', 'definition': 'changeable inconstant fickle unstable explosive'}, {'word': 'alloy', 'definition': 'to debase by mixing with something inferior'}, {'word': 'dormant', 'definition': 'in a state of inactivity but awaiting development'}, {'word': 'gallant', 'definition': 'brave,behaves well with women\"'}, {'word': 'grievous', 'definition': 'causing grief or pain; serious dire grave'}, {'word': 'enzyme', 'definition': 'catalyst'}, {'word': 'shard', 'definition': 'A piece of broken pottery'}, {'word': 'hypocrisy', 'definition': 'falsely making oneself appear to be good'}, {'word': 'eradicate', 'definition': 'get rid of pull up by the roots'}, {'word': 'chisel', 'definition': 'steel tool for shaping materials'}, {'word': 'infuriate', 'definition': 'fill with fury or rage'}, {'word': 'engulf', 'definition': 'swallow up'}, {'word': 'euphoria', 'definition': 'elation state of pleasant excitement'}, {'word': 'sanction', 'definition': 'approval (by authority) penalty'}, {'word': 'renowned', 'definition': 'celebrated; famous'}, {'word': 'riddle', 'definition': 'puzzling person or thing'}, {'word': 'evoke', 'definition': 'call up bring out'}, {'word': 'mischievous', 'definition': 'harmful; causing mischief'}, {'word': 'implicit', 'definition': 'implied though; not plainly expressed'}, {'word': 'disproof', 'definition': 'proof to the contrary'}, {'word': 'misogynist', 'definition': 'one who hates women/females'}, {'word': 'abysmal', 'definition': 'extreme bad'}, {'word': 'writ', 'definition': 'written order'}, {'word': 'pertain', 'definition': 'belong as a part have reference'}, {'word': 'erratic', 'definition': 'irregular in behaviour or opinion'}, {'word': 'meticulous', 'definition': 'giving great attention to details'}, {'word': 'impromptu', 'definition': 'without preparation'}, {'word': 'inclined', 'definition': 'directing the mind in a certain direction'}, {'word': 'constrict', 'definition': 'make tight or smaller'}, {'word': 'perish', 'definition': 'be destroyed decay'}, {'word': 'Lambaste', 'definition': 'attack verbally'}, {'word': 'luminary', 'definition': 'star; light-giving body'}, {'word': 'dupe', 'definition': 'cheat make a fool of'}, {'word': 'auxiliary', 'definition': 'helping; supporting'}, {'word': 'extralegal', 'definition': 'outside the law'}, {'word': 'ambivalent', 'definition': 'having both of two contrary meanings'}, {'word': 'tonic', 'definition': 'something giving strength or energy'}, {'word': 'endorse', 'definition': \"write one's name on the back of\"}, {'word': 'turbulence', 'definition': 'being uncontrollably violent'}, {'word': 'connoisseur', 'definition': 'a person with good judgement (e.g.. in art)'}, {'word': 'indistinct', 'definition': 'not easily heard; seen clearly marked'}, {'word': 'abstruse', 'definition': 'difficult to comprehend; obscure'}, {'word': 'limp', 'definition': 'lacking strength; walking unevenly'}, {'word': 'parenthesis', 'definition': 'sentence within another one something separated'}, {'word': 'sophisticated', 'definition': 'complex; subtle; refined'}, {'word': 'aberration', 'definition': 'straying away from what is normal'}, {'word': 'recuperate', 'definition': 'become strong after illness loss exhaustion'}, {'word': 'perjury', 'definition': 'willful FALSE statement unlawful act'}, {'word': 'mite', 'definition': 'A very small amount, portion, or particle\"'}, {'word': 'pest', 'definition': 'destructive thing or a person who is nuisance'}, {'word': 'pluck', 'definition': 'pull the feathers off pick (e.g.. flowers)'}, {'word': 'satiate', 'definition': 'satisfy fully'}, {'word': 'colloquial', 'definition': 'involving or using conversation.'}, {'word': 'yeoman', 'definition': 'man owning small estate; middle-class farmer'}, {'word': 'ail', 'definition': 'to cause pain, uneasiness, or trouble to.\"'}, {'word': 'fidelity', 'definition': 'loyalty accuracy'}, {'word': 'mesmerize', 'definition': 'hypnotize'}, {'word': 'paradigm', 'definition': 'a model example or pattern'}, {'word': 'gullible', 'definition': 'easily gulled'}, {'word': 'sobriety', 'definition': 'quality or condition of being sober'}, {'word': 'dislodge', 'definition': 'move force from the place occupied'}, {'word': 'fleet', 'definition': 'number of ships; quick-moving'}, {'word': 'articulate', 'definition': 'speak distinctly; connect by joints'}, {'word': 'tractable', 'definition': 'easily controlled or guided'}, {'word': 'partisan', 'definition': 'one-sided committed to a party biased or prejudiced'}, {'word': 'predominate', 'definition': 'have more power than others'}, {'word': 'foolproof', 'definition': 'incapable of failure or error'}, {'word': 'suffice', 'definition': 'be enough'}, {'word': 'permeate', 'definition': 'spread into every part of'}, {'word': 'spear', 'definition': 'weapon with a metal point on a long shaft'}, {'word': 'solvent', 'definition': 'of the power of forming a solution'}, {'word': 'presentiment', 'definition': 'anticipatory fear; premonition'}, {'word': 'vivacious', 'definition': 'lively high-spirited'}, {'word': 'coagulation', 'definition': 'change to a thick and solid state'}, {'word': 'liberality', 'definition': 'free giving; generosity'}, {'word': 'elaborate', 'definition': 'worked out with much care in great detail'}, {'word': 'brass', 'definition': 'yellow metal (mixing copper and zinc)'}, {'word': 'malleable', 'definition': 'yielding easily shaped; moldable; adapting'}, {'word': 'patron', 'definition': 'regular customer person who gives support'}, {'word': 'immutable', 'definition': 'that cannot be changed'}, {'word': 'forgery', 'definition': 'counterfeit'}, {'word': 'woo', 'definition': 'try to win'}, {'word': 'cordial', 'definition': 'warm and sincere'}, {'word': 'cumbersome', 'definition': 'burdensome; heavy and awkward to carry'}, {'word': 'beguile', 'definition': 'mislead or delude; cheat; pass time'}, {'word': 'retrograde', 'definition': 'receding'}, {'word': 'sheath', 'definition': 'cover for the blade of a weapon or a tool'}, {'word': 'bewilder', 'definition': 'puzzle; confuse'}, {'word': 'knit', 'definition': 'draw together; unite firmly'}, {'word': 'unscathed', 'definition': 'unharmed unhurt'}, {'word': 'chortle', 'definition': 'loud chuckle of pleasure or amusement'}, {'word': 'jabber', 'definition': 'talk excitedly; utter rapidly'}, {'word': 'pivotal', 'definition': 'of great importance (others depend on it)'}, {'word': 'implosion', 'definition': 'collapse; bursting inward'}, {'word': 'repel', 'definition': 'refuse to accept/cause dislike'}, {'word': 'superimpose', 'definition': 'put something on the top'}, {'word': 'centurion', 'definition': 'leader of a unit of 100 soldiers'}, {'word': 'enigma', 'definition': 'something that is puzzling'}, {'word': 'calipers', 'definition': 'metal supports attached to the legs measuring instrument'}, {'word': 'redeem', 'definition': 'get back by payment compensate'}, {'word': 'buoyant', 'definition': 'able to float; light-hearted'}, {'word': 'impede', 'definition': 'hinder; get in the way of'}, {'word': 'stride', 'definition': 'walk with long steps'}, {'word': 'boisterous', 'definition': 'noisy; restraint'}, {'word': 'resuscitation', 'definition': 'coming back to consciousness'}, {'word': 'concur', 'definition': 'agree in opinion happen together'}, {'word': 'recitals', 'definition': 'a number of performance of music'}, {'word': 'treacherous', 'definition': 'not to be trusted, perfidious\"'}, {'word': 'indulgent', 'definition': 'inclined to indulge'}, {'word': 'pilferer', 'definition': 'to steal, especially in small quantities\"'}, {'word': 'foster', 'definition': 'nurture; care for'}, {'word': 'apartheid', 'definition': 'brutal racial discrimination'}, {'word': 'garrulous', 'definition': 'too talkative'}, {'word': 'edify', 'definition': 'instruct; correct morally'}, {'word': 'evasive', 'definition': 'tending to evade'}, {'word': 'misanthrope', 'definition': 'person who hates mankind'}, {'word': 'eulogy', 'definition': 'formal praise panegyric'}, {'word': 'arcane', 'definition': 'known or understood by very few'}, {'word': 'bogus', 'definition': 'sham; counterfeit; not genuine'}, {'word': 'dexterity', 'definition': 'skill (esp. in handling)'}, {'word': 'lampoon', 'definition': 'publicly mock or ridicule'}, {'word': 'skit', 'definition': 'short piece of humorous writing'}, {'word': 'incongruous', 'definition': 'out of place; not in harmony or agreement'}, {'word': 'repulsive', 'definition': 'causing a feeling of disgust'}, {'word': 'refine', 'definition': 'make or become pure cultural'}]\n"
     ]
    }
   ],
   "source": [
    "# create a file handle\n",
    "fh = open('../Vocabulary_set.csv', 'r')\n",
    "wd_list = fh.readlines()#readlines from file\n",
    "#remove header form the file\n",
    "wd_list.pop(0)\n",
    "\n",
    "#create empty list\n",
    "vocab_list= []\n",
    "#run a for loop to iterate through the each line\n",
    "for rawstring in wd_list:\n",
    "    word, definition = rawstring.split(',', 1) #specifying a delimiter\n",
    "    definition = definition.rstrip()\n",
    "    vocab_list.append({'word':word, 'definition': definition}) # appending the word and definition to empty list\n",
    "    \n",
    "print(vocab_list)"
   ]
  },
  {
   "cell_type": "markdown",
   "metadata": {},
   "source": [
    "## **2: Create a Database**\n",
    "- [MongoDB Community Edition](https://www.mongodb.com/try/download/community)\n",
    "- Create a database using connection string URL\n",
    "- name the database\n",
    "- If no database exists, mongodb creates one\n",
    "- Use database connection to create the collection\n",
    "- Check data base for existence"
   ]
  },
  {
   "cell_type": "code",
   "execution_count": 2,
   "metadata": {},
   "outputs": [
    {
     "name": "stdout",
     "output_type": "stream",
     "text": [
      "Database Exists.\n"
     ]
    }
   ],
   "source": [
    "import pymongo as pm\n",
    "client = pm.MongoClient('mongodb://localhost:27017/')\n",
    "db = client['vocab']\n",
    "# check if data base exists\n",
    "dbs = client.list_database_names()\n",
    "vocab_col = db['vocab_list']\n",
    "if 'vocab' in dbs:\n",
    "    print('Database Exists.')\n",
    "\n"
   ]
  },
  {
   "cell_type": "markdown",
   "metadata": {},
   "source": [
    "## **3: Insert Documents to Database**\n",
    "- Insert a singledocument .JSON format\n",
    "- providing an _id for insert is optional, Mongo assigns one upon insert\n",
    "- check the result object for inserted id\n",
    "- Insert many documents\n",
    "- check the result for nserted ids\n"
   ]
  },
  {
   "cell_type": "code",
   "execution_count": 3,
   "metadata": {},
   "outputs": [
    {
     "name": "stdout",
     "output_type": "stream",
     "text": [
      "inserted id: 63676e9d48f4d8349dc4c868\n",
      "Database Exists.\n",
      "inserted id: [ObjectId('63676e9d48f4d8349dc4c869'), ObjectId('63676e9d48f4d8349dc4c86a'), ObjectId('63676e9d48f4d8349dc4c86b'), ObjectId('63676e9d48f4d8349dc4c86c'), ObjectId('63676e9d48f4d8349dc4c86d'), ObjectId('63676e9d48f4d8349dc4c86e'), ObjectId('63676e9d48f4d8349dc4c86f'), ObjectId('63676e9d48f4d8349dc4c870'), ObjectId('63676e9d48f4d8349dc4c871'), ObjectId('63676e9d48f4d8349dc4c872'), ObjectId('63676e9d48f4d8349dc4c873'), ObjectId('63676e9d48f4d8349dc4c874'), ObjectId('63676e9d48f4d8349dc4c875'), ObjectId('63676e9d48f4d8349dc4c876'), ObjectId('63676e9d48f4d8349dc4c877'), ObjectId('63676e9d48f4d8349dc4c878'), ObjectId('63676e9d48f4d8349dc4c879'), ObjectId('63676e9d48f4d8349dc4c87a'), ObjectId('63676e9d48f4d8349dc4c87b'), ObjectId('63676e9d48f4d8349dc4c87c'), ObjectId('63676e9d48f4d8349dc4c87d'), ObjectId('63676e9d48f4d8349dc4c87e'), ObjectId('63676e9d48f4d8349dc4c87f'), ObjectId('63676e9d48f4d8349dc4c880'), ObjectId('63676e9d48f4d8349dc4c881'), ObjectId('63676e9d48f4d8349dc4c882'), ObjectId('63676e9d48f4d8349dc4c883'), ObjectId('63676e9d48f4d8349dc4c884'), ObjectId('63676e9d48f4d8349dc4c885'), ObjectId('63676e9d48f4d8349dc4c886'), ObjectId('63676e9d48f4d8349dc4c887'), ObjectId('63676e9d48f4d8349dc4c888'), ObjectId('63676e9d48f4d8349dc4c889'), ObjectId('63676e9d48f4d8349dc4c88a'), ObjectId('63676e9d48f4d8349dc4c88b'), ObjectId('63676e9d48f4d8349dc4c88c'), ObjectId('63676e9d48f4d8349dc4c88d'), ObjectId('63676e9d48f4d8349dc4c88e'), ObjectId('63676e9d48f4d8349dc4c88f'), ObjectId('63676e9d48f4d8349dc4c890'), ObjectId('63676e9d48f4d8349dc4c891'), ObjectId('63676e9d48f4d8349dc4c892'), ObjectId('63676e9d48f4d8349dc4c893'), ObjectId('63676e9d48f4d8349dc4c894'), ObjectId('63676e9d48f4d8349dc4c895'), ObjectId('63676e9d48f4d8349dc4c896'), ObjectId('63676e9d48f4d8349dc4c897'), ObjectId('63676e9d48f4d8349dc4c898'), ObjectId('63676e9d48f4d8349dc4c899'), ObjectId('63676e9d48f4d8349dc4c89a'), ObjectId('63676e9d48f4d8349dc4c89b'), ObjectId('63676e9d48f4d8349dc4c89c'), ObjectId('63676e9d48f4d8349dc4c89d'), ObjectId('63676e9d48f4d8349dc4c89e'), ObjectId('63676e9d48f4d8349dc4c89f'), ObjectId('63676e9d48f4d8349dc4c8a0'), ObjectId('63676e9d48f4d8349dc4c8a1'), ObjectId('63676e9d48f4d8349dc4c8a2'), ObjectId('63676e9d48f4d8349dc4c8a3'), ObjectId('63676e9d48f4d8349dc4c8a4'), ObjectId('63676e9d48f4d8349dc4c8a5'), ObjectId('63676e9d48f4d8349dc4c8a6'), ObjectId('63676e9d48f4d8349dc4c8a7'), ObjectId('63676e9d48f4d8349dc4c8a8'), ObjectId('63676e9d48f4d8349dc4c8a9'), ObjectId('63676e9d48f4d8349dc4c8aa'), ObjectId('63676e9d48f4d8349dc4c8ab'), ObjectId('63676e9d48f4d8349dc4c8ac'), ObjectId('63676e9d48f4d8349dc4c8ad'), ObjectId('63676e9d48f4d8349dc4c8ae'), ObjectId('63676e9d48f4d8349dc4c8af'), ObjectId('63676e9d48f4d8349dc4c8b0'), ObjectId('63676e9d48f4d8349dc4c8b1'), ObjectId('63676e9d48f4d8349dc4c8b2'), ObjectId('63676e9d48f4d8349dc4c8b3'), ObjectId('63676e9d48f4d8349dc4c8b4'), ObjectId('63676e9d48f4d8349dc4c8b5'), ObjectId('63676e9d48f4d8349dc4c8b6'), ObjectId('63676e9d48f4d8349dc4c8b7'), ObjectId('63676e9d48f4d8349dc4c8b8'), ObjectId('63676e9d48f4d8349dc4c8b9'), ObjectId('63676e9d48f4d8349dc4c8ba'), ObjectId('63676e9d48f4d8349dc4c8bb'), ObjectId('63676e9d48f4d8349dc4c8bc'), ObjectId('63676e9d48f4d8349dc4c8bd'), ObjectId('63676e9d48f4d8349dc4c8be'), ObjectId('63676e9d48f4d8349dc4c8bf'), ObjectId('63676e9d48f4d8349dc4c8c0'), ObjectId('63676e9d48f4d8349dc4c8c1'), ObjectId('63676e9d48f4d8349dc4c8c2'), ObjectId('63676e9d48f4d8349dc4c8c3'), ObjectId('63676e9d48f4d8349dc4c8c4'), ObjectId('63676e9d48f4d8349dc4c8c5'), ObjectId('63676e9d48f4d8349dc4c8c6'), ObjectId('63676e9d48f4d8349dc4c8c7'), ObjectId('63676e9d48f4d8349dc4c8c8'), ObjectId('63676e9d48f4d8349dc4c8c9'), ObjectId('63676e9d48f4d8349dc4c8ca'), ObjectId('63676e9d48f4d8349dc4c8cb'), ObjectId('63676e9d48f4d8349dc4c8cc'), ObjectId('63676e9d48f4d8349dc4c8cd'), ObjectId('63676e9d48f4d8349dc4c8ce'), ObjectId('63676e9d48f4d8349dc4c8cf'), ObjectId('63676e9d48f4d8349dc4c8d0'), ObjectId('63676e9d48f4d8349dc4c8d1'), ObjectId('63676e9d48f4d8349dc4c8d2'), ObjectId('63676e9d48f4d8349dc4c8d3'), ObjectId('63676e9d48f4d8349dc4c8d4'), ObjectId('63676e9d48f4d8349dc4c8d5'), ObjectId('63676e9d48f4d8349dc4c8d6'), ObjectId('63676e9d48f4d8349dc4c8d7'), ObjectId('63676e9d48f4d8349dc4c8d8'), ObjectId('63676e9d48f4d8349dc4c8d9'), ObjectId('63676e9d48f4d8349dc4c8da'), ObjectId('63676e9d48f4d8349dc4c8db'), ObjectId('63676e9d48f4d8349dc4c8dc'), ObjectId('63676e9d48f4d8349dc4c8dd'), ObjectId('63676e9d48f4d8349dc4c8de'), ObjectId('63676e9d48f4d8349dc4c8df'), ObjectId('63676e9d48f4d8349dc4c8e0'), ObjectId('63676e9d48f4d8349dc4c8e1'), ObjectId('63676e9d48f4d8349dc4c8e2'), ObjectId('63676e9d48f4d8349dc4c8e3'), ObjectId('63676e9d48f4d8349dc4c8e4'), ObjectId('63676e9d48f4d8349dc4c8e5'), ObjectId('63676e9d48f4d8349dc4c8e6'), ObjectId('63676e9d48f4d8349dc4c8e7'), ObjectId('63676e9d48f4d8349dc4c8e8'), ObjectId('63676e9d48f4d8349dc4c8e9'), ObjectId('63676e9d48f4d8349dc4c8ea'), ObjectId('63676e9d48f4d8349dc4c8eb'), ObjectId('63676e9d48f4d8349dc4c8ec'), ObjectId('63676e9d48f4d8349dc4c8ed'), ObjectId('63676e9d48f4d8349dc4c8ee'), ObjectId('63676e9d48f4d8349dc4c8ef'), ObjectId('63676e9d48f4d8349dc4c8f0'), ObjectId('63676e9d48f4d8349dc4c8f1'), ObjectId('63676e9d48f4d8349dc4c8f2'), ObjectId('63676e9d48f4d8349dc4c8f3'), ObjectId('63676e9d48f4d8349dc4c8f4'), ObjectId('63676e9d48f4d8349dc4c8f5'), ObjectId('63676e9d48f4d8349dc4c8f6'), ObjectId('63676e9d48f4d8349dc4c8f7'), ObjectId('63676e9d48f4d8349dc4c8f8'), ObjectId('63676e9d48f4d8349dc4c8f9'), ObjectId('63676e9d48f4d8349dc4c8fa'), ObjectId('63676e9d48f4d8349dc4c8fb'), ObjectId('63676e9d48f4d8349dc4c8fc'), ObjectId('63676e9d48f4d8349dc4c8fd'), ObjectId('63676e9d48f4d8349dc4c8fe'), ObjectId('63676e9d48f4d8349dc4c8ff'), ObjectId('63676e9d48f4d8349dc4c900'), ObjectId('63676e9d48f4d8349dc4c901'), ObjectId('63676e9d48f4d8349dc4c902'), ObjectId('63676e9d48f4d8349dc4c903'), ObjectId('63676e9d48f4d8349dc4c904'), ObjectId('63676e9d48f4d8349dc4c905'), ObjectId('63676e9d48f4d8349dc4c906'), ObjectId('63676e9d48f4d8349dc4c907'), ObjectId('63676e9d48f4d8349dc4c908'), ObjectId('63676e9d48f4d8349dc4c909'), ObjectId('63676e9d48f4d8349dc4c90a'), ObjectId('63676e9d48f4d8349dc4c90b'), ObjectId('63676e9d48f4d8349dc4c90c'), ObjectId('63676e9d48f4d8349dc4c90d'), ObjectId('63676e9d48f4d8349dc4c90e'), ObjectId('63676e9d48f4d8349dc4c90f'), ObjectId('63676e9d48f4d8349dc4c910'), ObjectId('63676e9d48f4d8349dc4c911'), ObjectId('63676e9d48f4d8349dc4c912'), ObjectId('63676e9d48f4d8349dc4c913'), ObjectId('63676e9d48f4d8349dc4c914'), ObjectId('63676e9d48f4d8349dc4c915'), ObjectId('63676e9d48f4d8349dc4c916'), ObjectId('63676e9d48f4d8349dc4c917'), ObjectId('63676e9d48f4d8349dc4c918'), ObjectId('63676e9d48f4d8349dc4c919'), ObjectId('63676e9d48f4d8349dc4c91a'), ObjectId('63676e9d48f4d8349dc4c91b'), ObjectId('63676e9d48f4d8349dc4c91c'), ObjectId('63676e9d48f4d8349dc4c91d'), ObjectId('63676e9d48f4d8349dc4c91e'), ObjectId('63676e9d48f4d8349dc4c91f'), ObjectId('63676e9d48f4d8349dc4c920'), ObjectId('63676e9d48f4d8349dc4c921'), ObjectId('63676e9d48f4d8349dc4c922'), ObjectId('63676e9d48f4d8349dc4c923'), ObjectId('63676e9d48f4d8349dc4c924'), ObjectId('63676e9d48f4d8349dc4c925'), ObjectId('63676e9d48f4d8349dc4c926'), ObjectId('63676e9d48f4d8349dc4c927'), ObjectId('63676e9d48f4d8349dc4c928'), ObjectId('63676e9d48f4d8349dc4c929'), ObjectId('63676e9d48f4d8349dc4c92a'), ObjectId('63676e9d48f4d8349dc4c92b'), ObjectId('63676e9d48f4d8349dc4c92c'), ObjectId('63676e9d48f4d8349dc4c92d'), ObjectId('63676e9d48f4d8349dc4c92e'), ObjectId('63676e9d48f4d8349dc4c92f'), ObjectId('63676e9d48f4d8349dc4c930'), ObjectId('63676e9d48f4d8349dc4c931'), ObjectId('63676e9d48f4d8349dc4c932'), ObjectId('63676e9d48f4d8349dc4c933'), ObjectId('63676e9d48f4d8349dc4c934'), ObjectId('63676e9d48f4d8349dc4c935'), ObjectId('63676e9d48f4d8349dc4c936'), ObjectId('63676e9d48f4d8349dc4c937'), ObjectId('63676e9d48f4d8349dc4c938'), ObjectId('63676e9d48f4d8349dc4c939'), ObjectId('63676e9d48f4d8349dc4c93a'), ObjectId('63676e9d48f4d8349dc4c93b'), ObjectId('63676e9d48f4d8349dc4c93c'), ObjectId('63676e9d48f4d8349dc4c93d'), ObjectId('63676e9d48f4d8349dc4c93e'), ObjectId('63676e9d48f4d8349dc4c93f'), ObjectId('63676e9d48f4d8349dc4c940'), ObjectId('63676e9d48f4d8349dc4c941'), ObjectId('63676e9d48f4d8349dc4c942'), ObjectId('63676e9d48f4d8349dc4c943'), ObjectId('63676e9d48f4d8349dc4c944'), ObjectId('63676e9d48f4d8349dc4c945'), ObjectId('63676e9d48f4d8349dc4c946'), ObjectId('63676e9d48f4d8349dc4c947'), ObjectId('63676e9d48f4d8349dc4c948'), ObjectId('63676e9d48f4d8349dc4c949'), ObjectId('63676e9d48f4d8349dc4c94a'), ObjectId('63676e9d48f4d8349dc4c94b'), ObjectId('63676e9d48f4d8349dc4c94c'), ObjectId('63676e9d48f4d8349dc4c94d'), ObjectId('63676e9d48f4d8349dc4c94e'), ObjectId('63676e9d48f4d8349dc4c94f'), ObjectId('63676e9d48f4d8349dc4c950'), ObjectId('63676e9d48f4d8349dc4c951'), ObjectId('63676e9d48f4d8349dc4c952'), ObjectId('63676e9d48f4d8349dc4c953'), ObjectId('63676e9d48f4d8349dc4c954'), ObjectId('63676e9d48f4d8349dc4c955'), ObjectId('63676e9d48f4d8349dc4c956'), ObjectId('63676e9d48f4d8349dc4c957'), ObjectId('63676e9d48f4d8349dc4c958'), ObjectId('63676e9d48f4d8349dc4c959'), ObjectId('63676e9d48f4d8349dc4c95a'), ObjectId('63676e9d48f4d8349dc4c95b'), ObjectId('63676e9d48f4d8349dc4c95c'), ObjectId('63676e9d48f4d8349dc4c95d'), ObjectId('63676e9d48f4d8349dc4c95e'), ObjectId('63676e9d48f4d8349dc4c95f'), ObjectId('63676e9d48f4d8349dc4c960'), ObjectId('63676e9d48f4d8349dc4c961'), ObjectId('63676e9d48f4d8349dc4c962'), ObjectId('63676e9d48f4d8349dc4c963'), ObjectId('63676e9d48f4d8349dc4c964'), ObjectId('63676e9d48f4d8349dc4c965'), ObjectId('63676e9d48f4d8349dc4c966'), ObjectId('63676e9d48f4d8349dc4c967'), ObjectId('63676e9d48f4d8349dc4c968'), ObjectId('63676e9d48f4d8349dc4c969'), ObjectId('63676e9d48f4d8349dc4c96a'), ObjectId('63676e9d48f4d8349dc4c96b'), ObjectId('63676e9d48f4d8349dc4c96c'), ObjectId('63676e9d48f4d8349dc4c96d'), ObjectId('63676e9d48f4d8349dc4c96e')]\n"
     ]
    }
   ],
   "source": [
    "dbs = client.list_database_names()\n",
    "vocab_col = db['vocab_list']\n",
    "vocab_dict = {'word':'cryptic', 'definition':'Secret with a hidden meaning'}\n",
    "res = vocab_col.insert_one(vocab_dict) # checking to add single document\n",
    "print('inserted id:', res.inserted_id)\n",
    "if 'vocab' in dbs:\n",
    "    print('Database Exists.')\n",
    "\n",
    "res = vocab_col.insert_many(vocab_list)# checking to add multiple document\n",
    "print('inserted id:', res.inserted_ids) # inserted ids for all documents in database"
   ]
  },
  {
   "cell_type": "markdown",
   "metadata": {},
   "source": [
    "## **Practice: Creating a MongoDB database and collection.**\n",
    "- Create a new file in Visual Studio Code called 'prac.py'.\n",
    "- import pymongo within prac.py.\n",
    "- Create the database connection.\n",
    "- Create the database 'pets'\n",
    "- Create the Collection 'pet_col'.\n",
    "- Form key/value pair data for a pet.\n",
    "- Insert the pet and obtain the result.\n",
    "- Output the inserted id.\n",
    "- Pause here, and I will go over the solution when you are ready."
   ]
  },
  {
   "cell_type": "code",
   "execution_count": 14,
   "metadata": {},
   "outputs": [
    {
     "name": "stdout",
     "output_type": "stream",
     "text": [
      "inserted id 63676f9d48f4d8349dc4c976\n"
     ]
    }
   ],
   "source": [
    "import pymongo as pm\n",
    "\n",
    "# form the database connection\n",
    "\n",
    "conn = pm.MongoClient('mongodb://localhost:27017/')\n",
    "db =conn[\"pets\"]\n",
    "#task 2 Create Collection\n",
    "pet_col = db[\"pet_col\"]\n",
    "pet = {'name': 'bob', 'breed': 'hound mix' }\n",
    "res = pet_col.insert_one(pet)\n",
    "print(\"inserted id\", res.inserted_id)"
   ]
  },
  {
   "cell_type": "markdown",
   "metadata": {},
   "source": [
    "## 4: **Query Collection**\n",
    "1. Use the find one to retrieve one document from the Collection.\n",
    "2. Returns the _id, word and definition as JSON.\n",
    "3. Use find to return many documents.\n",
    "4. Use exclusion to only get certain fields from the query.\n",
    "5. Use filter to select only certain documents"
   ]
  },
  {
   "cell_type": "code",
   "execution_count": 10,
   "metadata": {},
   "outputs": [
    {
     "name": "stdout",
     "output_type": "stream",
     "text": [
      "{'_id': ObjectId('63676e42f6932e574df74b4c'), 'word': 'boisterous', 'definition': 'rowdy; noisy'}\n"
     ]
    }
   ],
   "source": [
    "# get first query\n",
    "data = vocab_col.find_one()\n",
    "# print(data)\n",
    "\n",
    "# print entire collection uncomment to get along with _id\n",
    "# for data in vocab_col.find({}):\n",
    "#     print(data)\n",
    "# for data in vocab_col.find({}, {'_id':0, 'definition':0}): #excluded id and retrieve only word and definition\n",
    "#     print(data)\n",
    "    \n",
    "data = vocab_col.find_one({'word':'boisterous'})  # getting specific word from the database\n",
    "print(data)\n",
    "\n"
   ]
  },
  {
   "cell_type": "markdown",
   "metadata": {},
   "source": [
    "## **5: Update the Collection**\n",
    "1. Update a single document in the Collection.\n",
    "2. Check the modified count.\n",
    "3. Update all documents in the Collection.\n",
    "4. Check the modified count.\n",
    "5. Query the Collection and print it."
   ]
  },
  {
   "cell_type": "code",
   "execution_count": 12,
   "metadata": {},
   "outputs": [
    {
     "name": "stdout",
     "output_type": "stream",
     "text": [
      "modified count 0\n",
      "{'_id': ObjectId('63676e42f6932e574df74b4c'), 'word': 'boisterous', 'definition': 'rowdy; noisy'}\n"
     ]
    }
   ],
   "source": [
    "import datetime\n",
    "#update documents  \n",
    "upd = vocab_col.update_one({'word':'boisterous'}, {'$set': {'definition':'rowdy; noisy'}})\n",
    "print('modified count', upd.modified_count)\n",
    "\n",
    "data = vocab_col.find_one({'word':'boisterous'})  # checking boisterous updated meaning\n",
    "print(data)\n",
    "\n",
    "# update whole database\n",
    "# upd = vocab_col.update_many({filter}, {'$set': {'last_updated UTC:': datetime.datetime.utcnow().strftime('%Y-%m-%d%H%M%SZ')}})\n",
    "# print('modified count', upd.modified_count)"
   ]
  },
  {
   "cell_type": "markdown",
   "metadata": {},
   "source": [
    "## **Capstone Task: Create and Query a MongoDB Users database Collection.**\n",
    "- Within a file 'cap.py', import pymongo\n",
    "- Form the database connection\n",
    "- Create the database.\n",
    "- Create the user collection\n",
    "- Create the user data to be inserted\n",
    "- Insert and check that the insertion worked:\n",
    "- Create another user:\n",
    "- Insert and check that the insertion worked:\n",
    "- Perform a query and output the data"
   ]
  },
  {
   "cell_type": "code",
   "execution_count": 15,
   "metadata": {},
   "outputs": [
    {
     "name": "stdout",
     "output_type": "stream",
     "text": [
      "inserted id : 63676fad48f4d8349dc4c978\n",
      "{'_id': ObjectId('63676fad48f4d8349dc4c978'), 'user': 'Dilshad', 'startdate': '01222022', 'enddate': '02122022'}\n"
     ]
    }
   ],
   "source": [
    "import pymongo as pm\n",
    "\n",
    "# form the database connection\n",
    "conn = pm.MongoClient('mongodb://localhost:27017/')\n",
    "db = conn[\"users\"]\n",
    "#task 2 Create Collection\n",
    "user_col = db[\"users_col]\"]\n",
    "user = {'user': 'Dilshad', 'startdate': '01222022', 'enddate' : '02122022' }\n",
    "res = user_col.insert_one(user)\n",
    "user2 ={ 'user': 'Awais', 'startdate': '11102020', 'enddate': '12132022'}\n",
    "res2 = user_col.insert_one(user2)\n",
    "print(\"inserted id :\", res.inserted_id)\n",
    "data = user_col.find_one({'user':'Dilshad'})\n",
    "print(data)"
   ]
  }
 ],
 "metadata": {
  "kernelspec": {
   "display_name": "Python 3.9.12 ('base')",
   "language": "python",
   "name": "python3"
  },
  "language_info": {
   "codemirror_mode": {
    "name": "ipython",
    "version": 3
   },
   "file_extension": ".py",
   "mimetype": "text/x-python",
   "name": "python",
   "nbconvert_exporter": "python",
   "pygments_lexer": "ipython3",
   "version": "3.9.12"
  },
  "orig_nbformat": 4,
  "vscode": {
   "interpreter": {
    "hash": "88de8a03d390c9821a705f8812eeaeda47efe29e530260f109fd5a47346b85c0"
   }
  }
 },
 "nbformat": 4,
 "nbformat_minor": 2
}
